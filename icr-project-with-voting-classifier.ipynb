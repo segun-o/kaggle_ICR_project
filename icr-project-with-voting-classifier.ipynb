{
 "cells": [
  {
   "cell_type": "markdown",
   "id": "52231d4b",
   "metadata": {
    "papermill": {
     "duration": 0.005088,
     "end_time": "2023-06-09T14:43:39.542936",
     "exception": false,
     "start_time": "2023-06-09T14:43:39.537848",
     "status": "completed"
    },
    "tags": []
   },
   "source": [
    "## Importing all Dependencies"
   ]
  },
  {
   "cell_type": "code",
   "execution_count": 1,
   "id": "2c61f24a",
   "metadata": {
    "execution": {
     "iopub.execute_input": "2023-06-09T14:43:39.555708Z",
     "iopub.status.busy": "2023-06-09T14:43:39.555174Z",
     "iopub.status.idle": "2023-06-09T14:43:41.490875Z",
     "shell.execute_reply": "2023-06-09T14:43:41.489724Z"
    },
    "papermill": {
     "duration": 1.945241,
     "end_time": "2023-06-09T14:43:41.493606",
     "exception": false,
     "start_time": "2023-06-09T14:43:39.548365",
     "status": "completed"
    },
    "tags": []
   },
   "outputs": [],
   "source": [
    "import numpy as np\n",
    "import pandas as pd\n",
    "import matplotlib.pyplot as plt\n",
    "from sklearn.base import BaseEstimator, TransformerMixin\n",
    "from sklearn.pipeline import make_pipeline, Pipeline\n",
    "from sklearn.compose import ColumnTransformer, make_column_selector\n",
    "from sklearn.preprocessing import StandardScaler, OrdinalEncoder, FunctionTransformer, PolynomialFeatures\n",
    "from sklearn.impute import SimpleImputer\n",
    "from sklearn.model_selection import cross_val_score, cross_val_predict, GridSearchCV\n",
    "from sklearn.metrics import precision_recall_curve, precision_score, recall_score, confusion_matrix, accuracy_score, log_loss\n",
    "from sklearn.ensemble import AdaBoostClassifier, GradientBoostingClassifier, VotingClassifier, HistGradientBoostingClassifier\n",
    "from sklearn.linear_model import LogisticRegression"
   ]
  },
  {
   "cell_type": "markdown",
   "id": "42c7e607",
   "metadata": {
    "papermill": {
     "duration": 0.004556,
     "end_time": "2023-06-09T14:43:41.502925",
     "exception": false,
     "start_time": "2023-06-09T14:43:41.498369",
     "status": "completed"
    },
    "tags": []
   },
   "source": [
    "## Read in Training and Testing Data"
   ]
  },
  {
   "cell_type": "code",
   "execution_count": 2,
   "id": "3d661a4d",
   "metadata": {
    "execution": {
     "iopub.execute_input": "2023-06-09T14:43:41.512689Z",
     "iopub.status.busy": "2023-06-09T14:43:41.512268Z",
     "iopub.status.idle": "2023-06-09T14:43:41.575636Z",
     "shell.execute_reply": "2023-06-09T14:43:41.574349Z"
    },
    "papermill": {
     "duration": 0.071386,
     "end_time": "2023-06-09T14:43:41.578338",
     "exception": false,
     "start_time": "2023-06-09T14:43:41.506952",
     "status": "completed"
    },
    "tags": []
   },
   "outputs": [],
   "source": [
    "from sklearn.model_selection import train_test_split\n",
    "file_path_train = \"/kaggle/input/icr-identify-age-related-conditions/train.csv\"\n",
    "file_path_test = \"/kaggle/input/icr-identify-age-related-conditions/test.csv\"\n",
    "\n",
    "train = pd.read_csv(file_path_train)\n",
    "final_test = pd.read_csv(file_path_test)\n",
    "\n",
    "train_full, test = train_test_split(train, random_state=42, stratify=train[\"Class\"])\n",
    "train, valid = train_test_split(train_full, random_state=42, stratify=train_full[\"Class\"])\n",
    "\n",
    "X_train, y_train = train.drop([\"Class\"], axis=1), train[\"Class\"].copy()\n",
    "X_test, y_test = test.drop([\"Class\"], axis=1), test[\"Class\"].copy()\n",
    "X_valid, y_valid = valid.drop([\"Class\"], axis=1), valid[\"Class\"].copy()"
   ]
  },
  {
   "cell_type": "markdown",
   "id": "6b00d7dc",
   "metadata": {
    "papermill": {
     "duration": 0.003463,
     "end_time": "2023-06-09T14:43:41.585730",
     "exception": false,
     "start_time": "2023-06-09T14:43:41.582267",
     "status": "completed"
    },
    "tags": []
   },
   "source": [
    "## Preprocessing"
   ]
  },
  {
   "cell_type": "code",
   "execution_count": 3,
   "id": "6f15f9bc",
   "metadata": {
    "execution": {
     "iopub.execute_input": "2023-06-09T14:43:41.595713Z",
     "iopub.status.busy": "2023-06-09T14:43:41.595040Z",
     "iopub.status.idle": "2023-06-09T14:43:41.602146Z",
     "shell.execute_reply": "2023-06-09T14:43:41.601371Z"
    },
    "papermill": {
     "duration": 0.014872,
     "end_time": "2023-06-09T14:43:41.604440",
     "exception": false,
     "start_time": "2023-06-09T14:43:41.589568",
     "status": "completed"
    },
    "tags": []
   },
   "outputs": [],
   "source": [
    "class input_outlier(BaseEstimator, TransformerMixin):\n",
    "    def __init__(self):\n",
    "        pass\n",
    "    def fit(self, X, y=None):\n",
    "        self.feature_names_in = X.columns\n",
    "        self.upper_limit = X.quantile(0.99)\n",
    "        self.lower_limit = X.quantile(0.01)\n",
    "        return self\n",
    "    def transform(self, X, y=None):\n",
    "        fixed_X = np.where(X>self.upper_limit, self.upper_limit, np.where(X<self.lower_limit, self.lower_limit, X))\n",
    "        return fixed_X\n",
    "    def get_feature_names_out(self, names=None):\n",
    "        return self.feature_names_in"
   ]
  },
  {
   "cell_type": "code",
   "execution_count": 4,
   "id": "98b4e719",
   "metadata": {
    "execution": {
     "iopub.execute_input": "2023-06-09T14:43:41.614303Z",
     "iopub.status.busy": "2023-06-09T14:43:41.613715Z",
     "iopub.status.idle": "2023-06-09T14:43:41.620715Z",
     "shell.execute_reply": "2023-06-09T14:43:41.619726Z"
    },
    "papermill": {
     "duration": 0.014788,
     "end_time": "2023-06-09T14:43:41.623146",
     "exception": false,
     "start_time": "2023-06-09T14:43:41.608358",
     "status": "completed"
    },
    "tags": []
   },
   "outputs": [],
   "source": [
    "log_transformer = FunctionTransformer(np.log, feature_names_out=\"one-to-one\")\n",
    "\n",
    "num_pipeline = make_pipeline(\n",
    "    input_outlier(),\n",
    "    SimpleImputer(strategy=\"median\"),\n",
    "    log_transformer,\n",
    "    StandardScaler()\n",
    ")\n",
    "\n",
    "cat_pipeline = make_pipeline(\n",
    "    SimpleImputer(strategy=\"most_frequent\"),\n",
    "    OrdinalEncoder()\n",
    ")\n",
    "\n",
    "cleaning = ColumnTransformer([\n",
    "    (\"num\", num_pipeline, make_column_selector(dtype_include=np.number)),\n",
    "    (\"cat\", cat_pipeline, [\"EJ\"]),\n",
    "])\n",
    "\n",
    "preprocessing = Pipeline([\n",
    "    (\"clean\", cleaning),\n",
    "    (\"poly_feat\", PolynomialFeatures(degree=3))\n",
    "])"
   ]
  },
  {
   "cell_type": "markdown",
   "id": "26ba8c29",
   "metadata": {
    "papermill": {
     "duration": 0.005225,
     "end_time": "2023-06-09T14:43:41.632756",
     "exception": false,
     "start_time": "2023-06-09T14:43:41.627531",
     "status": "completed"
    },
    "tags": []
   },
   "source": [
    "## Building Model using Voting classifier"
   ]
  },
  {
   "cell_type": "code",
   "execution_count": 5,
   "id": "4b47e21f",
   "metadata": {
    "execution": {
     "iopub.execute_input": "2023-06-09T14:43:41.642460Z",
     "iopub.status.busy": "2023-06-09T14:43:41.641974Z",
     "iopub.status.idle": "2023-06-09T14:43:41.740172Z",
     "shell.execute_reply": "2023-06-09T14:43:41.739195Z"
    },
    "papermill": {
     "duration": 0.106469,
     "end_time": "2023-06-09T14:43:41.743055",
     "exception": false,
     "start_time": "2023-06-09T14:43:41.636586",
     "status": "completed"
    },
    "tags": []
   },
   "outputs": [],
   "source": [
    "X_train_clean = preprocessing.fit_transform(X_train)\n",
    "log_reg_ada = LogisticRegression(penalty=\"l2\", max_iter=100, class_weight={0:1, 1:8}, tol=0.1, C=7)\n",
    "\n",
    "ada_log_reg = AdaBoostClassifier(log_reg_ada)\n",
    "\n",
    "voting_clf = VotingClassifier(\n",
    "    estimators=[\n",
    "        (\"lr\", LogisticRegression(penalty=\"l2\", max_iter=100, class_weight={0:1, 1:8}, tol=0.1, C=7)),\n",
    "        (\"ada\", ada_log_reg),\n",
    "        (\"gbrt\", GradientBoostingClassifier(n_estimators=100)),\n",
    "        (\"hgbrt\", HistGradientBoostingClassifier(max_iter=90))\n",
    "    ]\n",
    ", voting=\"soft\")"
   ]
  },
  {
   "cell_type": "code",
   "execution_count": 6,
   "id": "d11de86f",
   "metadata": {
    "execution": {
     "iopub.execute_input": "2023-06-09T14:43:41.752837Z",
     "iopub.status.busy": "2023-06-09T14:43:41.752474Z",
     "iopub.status.idle": "2023-06-09T15:15:23.141833Z",
     "shell.execute_reply": "2023-06-09T15:15:23.140583Z"
    },
    "papermill": {
     "duration": 1901.401072,
     "end_time": "2023-06-09T15:15:23.148157",
     "exception": false,
     "start_time": "2023-06-09T14:43:41.747085",
     "status": "completed"
    },
    "tags": []
   },
   "outputs": [
    {
     "name": "stdout",
     "output_type": "stream",
     "text": [
      "Model Log Loss:0.2320475392562561\n",
      "-----------------------\n",
      "Training Cross Validation :0.9306346826586706\n",
      "-----------------------\n",
      "Training Precision :0.8723404255319149\n",
      "Training Recall: 0.6721311475409836\n",
      "-----------------------\n",
      "\n",
      "Training Confusion Matrix\n"
     ]
    },
    {
     "data": {
      "text/html": [
       "<div>\n",
       "<style scoped>\n",
       "    .dataframe tbody tr th:only-of-type {\n",
       "        vertical-align: middle;\n",
       "    }\n",
       "\n",
       "    .dataframe tbody tr th {\n",
       "        vertical-align: top;\n",
       "    }\n",
       "\n",
       "    .dataframe thead th {\n",
       "        text-align: right;\n",
       "    }\n",
       "</style>\n",
       "<table border=\"1\" class=\"dataframe\">\n",
       "  <thead>\n",
       "    <tr style=\"text-align: right;\">\n",
       "      <th></th>\n",
       "      <th>Pred 0</th>\n",
       "      <th>Pred 1</th>\n",
       "    </tr>\n",
       "  </thead>\n",
       "  <tbody>\n",
       "    <tr>\n",
       "      <th>True 0</th>\n",
       "      <td>279</td>\n",
       "      <td>6</td>\n",
       "    </tr>\n",
       "    <tr>\n",
       "      <th>True 1</th>\n",
       "      <td>20</td>\n",
       "      <td>41</td>\n",
       "    </tr>\n",
       "  </tbody>\n",
       "</table>\n",
       "</div>"
      ],
      "text/plain": [
       "        Pred 0  Pred 1\n",
       "True 0     279       6\n",
       "True 1      20      41"
      ]
     },
     "execution_count": 6,
     "metadata": {},
     "output_type": "execute_result"
    }
   ],
   "source": [
    "cross_validation_score = cross_val_score(voting_clf, X_train_clean, y_train, cv=3, n_jobs=-1, scoring=\"accuracy\")\n",
    "clean_vote_pred = cross_val_predict(voting_clf, X_train_clean, y_train, cv=3, n_jobs=-1)\n",
    "precision_vote, recall_vote, threshold_vote = precision_recall_curve(y_train, clean_vote_pred)\n",
    "clean_vote_proba = cross_val_predict(voting_clf, X_train_clean, y_train, method=\"predict_proba\", n_jobs=-1)\n",
    "vote_log_loss = log_loss(y_train, clean_vote_proba)\n",
    "\n",
    "print(f\"Model Log Loss:{vote_log_loss}\")\n",
    "print(\"-----------------------\")\n",
    "\n",
    "print(f\"Training Cross Validation :{cross_validation_score.mean()}\")\n",
    "print(\"-----------------------\")\n",
    "print(f\"Training Precision :{precision_score(y_train, clean_vote_pred)}\\nTraining Recall: {recall_score(y_train, clean_vote_pred)}\")\n",
    "print(\"-----------------------\")\n",
    "print()\n",
    "print(\"Training Confusion Matrix\")\n",
    "pd.DataFrame(confusion_matrix(y_train, clean_vote_pred), columns=[\"Pred 0\", \"Pred 1\"], index=[\"True 0\", \"True 1\"])"
   ]
  },
  {
   "cell_type": "code",
   "execution_count": 7,
   "id": "cdaa514f",
   "metadata": {
    "execution": {
     "iopub.execute_input": "2023-06-09T15:15:23.159366Z",
     "iopub.status.busy": "2023-06-09T15:15:23.158944Z",
     "iopub.status.idle": "2023-06-09T15:22:57.267948Z",
     "shell.execute_reply": "2023-06-09T15:22:57.267004Z"
    },
    "papermill": {
     "duration": 454.117985,
     "end_time": "2023-06-09T15:22:57.270646",
     "exception": false,
     "start_time": "2023-06-09T15:15:23.152661",
     "status": "completed"
    },
    "tags": []
   },
   "outputs": [
    {
     "name": "stdout",
     "output_type": "stream",
     "text": [
      "\n"
     ]
    }
   ],
   "source": [
    "voting_clf.fit(X_train_clean, y_train)\n",
    "print()"
   ]
  },
  {
   "cell_type": "code",
   "execution_count": 8,
   "id": "5908ea4d",
   "metadata": {
    "execution": {
     "iopub.execute_input": "2023-06-09T15:22:57.282128Z",
     "iopub.status.busy": "2023-06-09T15:22:57.281540Z",
     "iopub.status.idle": "2023-06-09T15:22:58.177285Z",
     "shell.execute_reply": "2023-06-09T15:22:58.176522Z"
    },
    "papermill": {
     "duration": 0.904233,
     "end_time": "2023-06-09T15:22:58.179255",
     "exception": false,
     "start_time": "2023-06-09T15:22:57.275022",
     "status": "completed"
    },
    "tags": []
   },
   "outputs": [
    {
     "name": "stdout",
     "output_type": "stream",
     "text": [
      "Log Loss Validation set: 0.21112380647668297\n",
      "Accuracy on Validation set: 0.9568965517241379\n",
      "\n",
      "Validation Confusion Matrix\n"
     ]
    },
    {
     "data": {
      "text/html": [
       "<div>\n",
       "<style scoped>\n",
       "    .dataframe tbody tr th:only-of-type {\n",
       "        vertical-align: middle;\n",
       "    }\n",
       "\n",
       "    .dataframe tbody tr th {\n",
       "        vertical-align: top;\n",
       "    }\n",
       "\n",
       "    .dataframe thead th {\n",
       "        text-align: right;\n",
       "    }\n",
       "</style>\n",
       "<table border=\"1\" class=\"dataframe\">\n",
       "  <thead>\n",
       "    <tr style=\"text-align: right;\">\n",
       "      <th></th>\n",
       "      <th>Pred 0</th>\n",
       "      <th>Pred 1</th>\n",
       "    </tr>\n",
       "  </thead>\n",
       "  <tbody>\n",
       "    <tr>\n",
       "      <th>True 0</th>\n",
       "      <td>96</td>\n",
       "      <td>0</td>\n",
       "    </tr>\n",
       "    <tr>\n",
       "      <th>True 1</th>\n",
       "      <td>5</td>\n",
       "      <td>15</td>\n",
       "    </tr>\n",
       "  </tbody>\n",
       "</table>\n",
       "</div>"
      ],
      "text/plain": [
       "        Pred 0  Pred 1\n",
       "True 0      96       0\n",
       "True 1       5      15"
      ]
     },
     "execution_count": 8,
     "metadata": {},
     "output_type": "execute_result"
    }
   ],
   "source": [
    "X_valid_clean = preprocessing.transform(X_valid)\n",
    "y_valid_pred_vote = voting_clf.predict(X_valid_clean)\n",
    "y_valid_pred_proba_vote = voting_clf.predict_proba(X_valid_clean)\n",
    "print(f\"Log Loss Validation set: {log_loss(y_valid, y_valid_pred_proba_vote)}\")\n",
    "print(f\"Accuracy on Validation set: {accuracy_score(y_valid, y_valid_pred_vote)}\")\n",
    "print()\n",
    "print(\"Validation Confusion Matrix\")\n",
    "pd.DataFrame(confusion_matrix(y_valid, y_valid_pred_vote), columns=[\"Pred 0\", \"Pred 1\"], index=[\"True 0\", \"True 1\"])"
   ]
  },
  {
   "cell_type": "code",
   "execution_count": 9,
   "id": "fc3bf26b",
   "metadata": {
    "execution": {
     "iopub.execute_input": "2023-06-09T15:22:58.190886Z",
     "iopub.status.busy": "2023-06-09T15:22:58.189789Z",
     "iopub.status.idle": "2023-06-09T15:22:59.097705Z",
     "shell.execute_reply": "2023-06-09T15:22:59.096452Z"
    },
    "papermill": {
     "duration": 0.918129,
     "end_time": "2023-06-09T15:22:59.101858",
     "exception": false,
     "start_time": "2023-06-09T15:22:58.183729",
     "status": "completed"
    },
    "tags": []
   },
   "outputs": [
    {
     "name": "stdout",
     "output_type": "stream",
     "text": [
      "Log Loss Test set: 0.23703712084384757\n",
      "Accuracy on Test set: 0.9225806451612903\n",
      "\n",
      "Test Confusion Matrix\n"
     ]
    },
    {
     "data": {
      "text/html": [
       "<div>\n",
       "<style scoped>\n",
       "    .dataframe tbody tr th:only-of-type {\n",
       "        vertical-align: middle;\n",
       "    }\n",
       "\n",
       "    .dataframe tbody tr th {\n",
       "        vertical-align: top;\n",
       "    }\n",
       "\n",
       "    .dataframe thead th {\n",
       "        text-align: right;\n",
       "    }\n",
       "</style>\n",
       "<table border=\"1\" class=\"dataframe\">\n",
       "  <thead>\n",
       "    <tr style=\"text-align: right;\">\n",
       "      <th></th>\n",
       "      <th>Pred 0</th>\n",
       "      <th>Pred 1</th>\n",
       "    </tr>\n",
       "  </thead>\n",
       "  <tbody>\n",
       "    <tr>\n",
       "      <th>True 0</th>\n",
       "      <td>124</td>\n",
       "      <td>4</td>\n",
       "    </tr>\n",
       "    <tr>\n",
       "      <th>True 1</th>\n",
       "      <td>8</td>\n",
       "      <td>19</td>\n",
       "    </tr>\n",
       "  </tbody>\n",
       "</table>\n",
       "</div>"
      ],
      "text/plain": [
       "        Pred 0  Pred 1\n",
       "True 0     124       4\n",
       "True 1       8      19"
      ]
     },
     "execution_count": 9,
     "metadata": {},
     "output_type": "execute_result"
    }
   ],
   "source": [
    "X_test_clean = preprocessing.transform(X_test)\n",
    "y_test_pred_vote = voting_clf.predict(X_test_clean)\n",
    "y_test_pred_proba_vote = voting_clf.predict_proba(X_test_clean)\n",
    "print(f\"Log Loss Test set: {log_loss(y_test, y_test_pred_proba_vote)}\")\n",
    "print(f\"Accuracy on Test set: {accuracy_score(y_test, y_test_pred_vote)}\")\n",
    "print()\n",
    "print(\"Test Confusion Matrix\")\n",
    "pd.DataFrame(confusion_matrix(y_test, y_test_pred_vote), columns=[\"Pred 0\", \"Pred 1\"], index=[\"True 0\", \"True 1\"])"
   ]
  },
  {
   "cell_type": "code",
   "execution_count": 10,
   "id": "50918c9b",
   "metadata": {
    "execution": {
     "iopub.execute_input": "2023-06-09T15:22:59.120283Z",
     "iopub.status.busy": "2023-06-09T15:22:59.119742Z",
     "iopub.status.idle": "2023-06-09T15:22:59.177919Z",
     "shell.execute_reply": "2023-06-09T15:22:59.176958Z"
    },
    "papermill": {
     "duration": 0.070644,
     "end_time": "2023-06-09T15:22:59.180847",
     "exception": false,
     "start_time": "2023-06-09T15:22:59.110203",
     "status": "completed"
    },
    "tags": []
   },
   "outputs": [],
   "source": [
    "test_clean = preprocessing.transform(final_test)\n",
    "test_pred = voting_clf.predict_proba(test_clean)\n",
    "test_pred_df = pd.DataFrame(np.c_[final_test[\"Id\"], test_pred], columns=[\"Id\", \"class_0\", \"class_1\"])\n",
    "test_pred_df.to_csv(\"submission.csv\", index=False)"
   ]
  },
  {
   "cell_type": "code",
   "execution_count": null,
   "id": "c9ea4b74",
   "metadata": {
    "papermill": {
     "duration": 0.004625,
     "end_time": "2023-06-09T15:22:59.190331",
     "exception": false,
     "start_time": "2023-06-09T15:22:59.185706",
     "status": "completed"
    },
    "tags": []
   },
   "outputs": [],
   "source": []
  }
 ],
 "metadata": {
  "kernelspec": {
   "display_name": "Python 3 (ipykernel)",
   "language": "python",
   "name": "python3"
  },
  "language_info": {
   "codemirror_mode": {
    "name": "ipython",
    "version": 3
   },
   "file_extension": ".py",
   "mimetype": "text/x-python",
   "name": "python",
   "nbconvert_exporter": "python",
   "pygments_lexer": "ipython3",
   "version": "3.10.9"
  },
  "papermill": {
   "default_parameters": {},
   "duration": 2372.728959,
   "end_time": "2023-06-09T15:23:01.823707",
   "environment_variables": {},
   "exception": null,
   "input_path": "__notebook__.ipynb",
   "output_path": "__notebook__.ipynb",
   "parameters": {},
   "start_time": "2023-06-09T14:43:29.094748",
   "version": "2.4.0"
  }
 },
 "nbformat": 4,
 "nbformat_minor": 5
}

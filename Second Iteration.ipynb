{
 "cells": [
  {
   "cell_type": "code",
   "execution_count": 1,
   "id": "d49d295d-c5e0-46e9-9e5d-456dff0d7df9",
   "metadata": {},
   "outputs": [],
   "source": [
    "import numpy as np\n",
    "import pandas as pd\n",
    "\n",
    "from sklearn.base import BaseEstimator, TransformerMixin\n",
    "from sklearn.pipeline import make_pipeline, Pipeline\n",
    "from sklearn.compose import ColumnTransformer, make_column_selector\n",
    "from sklearn.preprocessing import StandardScaler, OrdinalEncoder, FunctionTransformer, PolynomialFeatures\n",
    "from sklearn.impute import SimpleImputer\n",
    "from sklearn.model_selection import cross_val_score, cross_val_predict, GridSearchCV, train_test_split\n",
    "from sklearn.metrics import precision_recall_curve, precision_score, recall_score, confusion_matrix, accuracy_score, log_loss\n",
    "\n",
    "\n",
    "import sklearn\n",
    "sklearn.set_config(display=\"Text\")\n",
    "pd.set_option('display.max_columns', None)"
   ]
  },
  {
   "cell_type": "code",
   "execution_count": 2,
   "id": "174c9d7b-1319-42fd-90bd-05cb47c3abc6",
   "metadata": {},
   "outputs": [],
   "source": [
    "file_path = \"../train.csv\"\n",
    "data = pd.read_csv(file_path)\n",
    "\n",
    "train_full, test = train_test_split(data, random_state=42, stratify=data[\"Class\"])\n",
    "train, valid = train_test_split(train_full, random_state=42, stratify=train_full[\"Class\"])\n",
    "\n",
    "X_train, y_train = train.drop([\"Class\"], axis=1), train[\"Class\"].copy()\n",
    "X_test, y_test = test.drop([\"Class\"], axis=1), test[\"Class\"].copy()\n",
    "X_valid, y_valid = valid.drop([\"Class\"], axis=1), valid[\"Class\"].copy()"
   ]
  },
  {
   "cell_type": "markdown",
   "id": "2ba61bf9-b4d7-40cd-9ab7-2bb53336b1be",
   "metadata": {},
   "source": [
    "# Preprocessing"
   ]
  },
  {
   "cell_type": "code",
   "execution_count": 3,
   "id": "7cee08a0-9541-4ad9-b309-5cc2302bffbe",
   "metadata": {},
   "outputs": [],
   "source": [
    "class input_outlier(BaseEstimator, TransformerMixin):\n",
    "    def __init__(self):\n",
    "        pass\n",
    "    def fit(self, X, y=None):\n",
    "        self.feature_names_in = X.columns\n",
    "        self.upper_limit = X.quantile(0.99)\n",
    "        self.lower_limit = X.quantile(0.01)\n",
    "        return self\n",
    "    def transform(self, X, y=None):\n",
    "        fixed_X = np.where(X>self.upper_limit, self.upper_limit, np.where(X<self.lower_limit, self.lower_limit, X))\n",
    "        return fixed_X\n",
    "    def get_feature_names_out(self, names=None):\n",
    "        return self.feature_names_in"
   ]
  },
  {
   "cell_type": "code",
   "execution_count": 4,
   "id": "3bff9f9a-7f78-4ac6-aad3-5a0ba57ac2a9",
   "metadata": {},
   "outputs": [],
   "source": [
    "log_transformer = FunctionTransformer(np.log, feature_names_out=\"one-to-one\")\n",
    "\n",
    "num_pipeline = make_pipeline(\n",
    "    input_outlier(),\n",
    "    SimpleImputer(strategy=\"median\"),\n",
    "    log_transformer,\n",
    "    StandardScaler()\n",
    ")\n",
    "\n",
    "cat_pipeline = make_pipeline(\n",
    "    SimpleImputer(strategy=\"most_frequent\"),\n",
    "    OrdinalEncoder()\n",
    ")\n",
    "\n",
    "cleaning = ColumnTransformer([\n",
    "    (\"num\", num_pipeline, make_column_selector(dtype_include=np.number)),\n",
    "    (\"cat\", cat_pipeline, [\"EJ\"]),\n",
    "])\n",
    "\n",
    "preprocessing = Pipeline([\n",
    "    (\"clean\", cleaning),\n",
    "    (\"poly_feat\", PolynomialFeatures(degree=3))\n",
    "])"
   ]
  },
  {
   "cell_type": "code",
   "execution_count": 5,
   "id": "6e34fb75-3a24-4807-97e7-b35dc4b1b4dd",
   "metadata": {},
   "outputs": [],
   "source": [
    "X_train_clean = preprocessing.fit_transform(X_train)\n",
    "X_valid_clean = preprocessing.transform(X_valid)\n",
    "X_test_clean = preprocessing.transform(X_test)"
   ]
  },
  {
   "cell_type": "code",
   "execution_count": 6,
   "id": "b2342c2d-01f3-41fc-96a3-957752acb237",
   "metadata": {},
   "outputs": [],
   "source": [
    "import tensorflow as tf"
   ]
  },
  {
   "cell_type": "code",
   "execution_count": 6,
   "id": "a6d65233-602d-44c7-a0d3-c9f045eeb52d",
   "metadata": {},
   "outputs": [],
   "source": [
    "model_1 = tf.keras.Sequential([\n",
    "    tf.keras.layers.Dense(300, activation=\"relu\"),\n",
    "    tf.keras.layers.Dense(100, activation=\"relu\"),\n",
    "    tf.keras.layers.Dense(2, activation=\"softmax\")\n",
    "])\n",
    "\n",
    "model_1.compile(loss=\"sparse_categorical_crossentropy\", optimizer=\"sgd\", metrics=[\"accuracy\"])"
   ]
  },
  {
   "cell_type": "code",
   "execution_count": 8,
   "id": "52138745-ecba-4fd3-8350-5a1de576313b",
   "metadata": {
    "collapsed": true,
    "jupyter": {
     "outputs_hidden": true
    },
    "tags": []
   },
   "outputs": [
    {
     "name": "stdout",
     "output_type": "stream",
     "text": [
      "Epoch 1/30\n",
      "11/11 [==============================] - 6s 198ms/step - loss: 0.8274 - accuracy: 0.7803 - val_loss: 0.3003 - val_accuracy: 0.8793\n",
      "Epoch 2/30\n",
      "11/11 [==============================] - 1s 92ms/step - loss: 0.0932 - accuracy: 0.9942 - val_loss: 0.3270 - val_accuracy: 0.9138\n",
      "Epoch 3/30\n",
      "11/11 [==============================] - 1s 87ms/step - loss: 0.0285 - accuracy: 1.0000 - val_loss: 0.3189 - val_accuracy: 0.9138\n",
      "Epoch 4/30\n",
      "11/11 [==============================] - 1s 79ms/step - loss: 0.0209 - accuracy: 1.0000 - val_loss: 0.3166 - val_accuracy: 0.9138\n",
      "Epoch 5/30\n",
      "11/11 [==============================] - 1s 66ms/step - loss: 0.0165 - accuracy: 1.0000 - val_loss: 0.3157 - val_accuracy: 0.9138\n",
      "Epoch 6/30\n",
      "11/11 [==============================] - 1s 72ms/step - loss: 0.0136 - accuracy: 1.0000 - val_loss: 0.3156 - val_accuracy: 0.9138\n",
      "Epoch 7/30\n",
      "11/11 [==============================] - 1s 71ms/step - loss: 0.0116 - accuracy: 1.0000 - val_loss: 0.3161 - val_accuracy: 0.9224\n",
      "Epoch 8/30\n",
      "11/11 [==============================] - 1s 61ms/step - loss: 0.0100 - accuracy: 1.0000 - val_loss: 0.3168 - val_accuracy: 0.9224\n",
      "Epoch 9/30\n",
      "11/11 [==============================] - 1s 74ms/step - loss: 0.0089 - accuracy: 1.0000 - val_loss: 0.3177 - val_accuracy: 0.9224\n",
      "Epoch 10/30\n",
      "11/11 [==============================] - 1s 73ms/step - loss: 0.0079 - accuracy: 1.0000 - val_loss: 0.3187 - val_accuracy: 0.9224\n",
      "Epoch 11/30\n",
      "11/11 [==============================] - 1s 57ms/step - loss: 0.0072 - accuracy: 1.0000 - val_loss: 0.3199 - val_accuracy: 0.9224\n",
      "Epoch 12/30\n",
      "11/11 [==============================] - 1s 70ms/step - loss: 0.0065 - accuracy: 1.0000 - val_loss: 0.3211 - val_accuracy: 0.9224\n",
      "Epoch 13/30\n",
      "11/11 [==============================] - 1s 63ms/step - loss: 0.0060 - accuracy: 1.0000 - val_loss: 0.3222 - val_accuracy: 0.9224\n",
      "Epoch 14/30\n",
      "11/11 [==============================] - 1s 64ms/step - loss: 0.0055 - accuracy: 1.0000 - val_loss: 0.3231 - val_accuracy: 0.9224\n",
      "Epoch 15/30\n",
      "11/11 [==============================] - 1s 70ms/step - loss: 0.0052 - accuracy: 1.0000 - val_loss: 0.3242 - val_accuracy: 0.9310\n",
      "Epoch 16/30\n",
      "11/11 [==============================] - 1s 71ms/step - loss: 0.0048 - accuracy: 1.0000 - val_loss: 0.3252 - val_accuracy: 0.9310\n",
      "Epoch 17/30\n",
      "11/11 [==============================] - 1s 69ms/step - loss: 0.0045 - accuracy: 1.0000 - val_loss: 0.3261 - val_accuracy: 0.9310\n",
      "Epoch 18/30\n",
      "11/11 [==============================] - 1s 64ms/step - loss: 0.0042 - accuracy: 1.0000 - val_loss: 0.3270 - val_accuracy: 0.9310\n",
      "Epoch 19/30\n",
      "11/11 [==============================] - 1s 67ms/step - loss: 0.0040 - accuracy: 1.0000 - val_loss: 0.3278 - val_accuracy: 0.9310\n",
      "Epoch 20/30\n",
      "11/11 [==============================] - 1s 62ms/step - loss: 0.0038 - accuracy: 1.0000 - val_loss: 0.3289 - val_accuracy: 0.9310\n",
      "Epoch 21/30\n",
      "11/11 [==============================] - 1s 63ms/step - loss: 0.0036 - accuracy: 1.0000 - val_loss: 0.3297 - val_accuracy: 0.9310\n",
      "Epoch 22/30\n",
      "11/11 [==============================] - 1s 66ms/step - loss: 0.0034 - accuracy: 1.0000 - val_loss: 0.3306 - val_accuracy: 0.9310\n",
      "Epoch 23/30\n",
      "11/11 [==============================] - 1s 75ms/step - loss: 0.0033 - accuracy: 1.0000 - val_loss: 0.3314 - val_accuracy: 0.9310\n",
      "Epoch 24/30\n",
      "11/11 [==============================] - 1s 69ms/step - loss: 0.0031 - accuracy: 1.0000 - val_loss: 0.3322 - val_accuracy: 0.9310\n",
      "Epoch 25/30\n",
      "11/11 [==============================] - 1s 73ms/step - loss: 0.0030 - accuracy: 1.0000 - val_loss: 0.3330 - val_accuracy: 0.9310\n",
      "Epoch 26/30\n",
      "11/11 [==============================] - 1s 65ms/step - loss: 0.0028 - accuracy: 1.0000 - val_loss: 0.3338 - val_accuracy: 0.9310\n",
      "Epoch 27/30\n",
      "11/11 [==============================] - 1s 67ms/step - loss: 0.0027 - accuracy: 1.0000 - val_loss: 0.3346 - val_accuracy: 0.9224\n",
      "Epoch 28/30\n",
      "11/11 [==============================] - 1s 71ms/step - loss: 0.0026 - accuracy: 1.0000 - val_loss: 0.3353 - val_accuracy: 0.9224\n",
      "Epoch 29/30\n",
      "11/11 [==============================] - 1s 71ms/step - loss: 0.0025 - accuracy: 1.0000 - val_loss: 0.3360 - val_accuracy: 0.9224\n",
      "Epoch 30/30\n",
      "11/11 [==============================] - 1s 74ms/step - loss: 0.0024 - accuracy: 1.0000 - val_loss: 0.3368 - val_accuracy: 0.9224\n"
     ]
    }
   ],
   "source": [
    "history_1 = model_1.fit(X_train_clean, y_train, epochs=30, validation_data=[X_valid_clean, y_valid])"
   ]
  },
  {
   "cell_type": "code",
   "execution_count": 17,
   "id": "f38bc33c-4cb5-4fcb-93a2-aa52b18fa89f",
   "metadata": {},
   "outputs": [
    {
     "data": {
      "image/png": "[encoded data removed]",
      "text/plain": [
       "<Figure size 800x500 with 1 Axes>"
      ]
     },
     "metadata": {},
     "output_type": "display_data"
    }
   ],
   "source": [
    "import matplotlib.pyplot as plt\n",
    "import pandas as pd\n",
    "\n",
    "pd.DataFrame(history_1.history).plot(figsize=(8, 5), xlim=[-1, 29], ylim=[-0.1, 1.1], grid=True, xlabel=\"Epoch\", style=[\"r--\", \"r--.\", \"b-\", \"b-*\"])\n",
    "plt.show()"
   ]
  },
  {
   "cell_type": "code",
   "execution_count": 13,
   "id": "f1bc862d-2b99-4fed-9111-0208085a83bf",
   "metadata": {},
   "outputs": [
    {
     "name": "stdout",
     "output_type": "stream",
     "text": [
      "5/5 [==============================] - 0s 71ms/step - loss: 0.5069 - accuracy: 0.8645\n"
     ]
    },
    {
     "data": {
      "text/plain": [
       "[0.5069248080253601, 0.8645161390304565]"
      ]
     },
     "execution_count": 13,
     "metadata": {},
     "output_type": "execute_result"
    }
   ],
   "source": [
    "model_1.evaluate(X_test_clean, y_test)"
   ]
  },
  {
   "cell_type": "code",
   "execution_count": 25,
   "id": "0cc5eb66-356e-4c7d-afa1-c3d623af338f",
   "metadata": {},
   "outputs": [
    {
     "name": "stdout",
     "output_type": "stream",
     "text": [
      "4/4 [==============================] - 0s 58ms/step\n",
      "5/5 [==============================] - 0s 65ms/step\n",
      "Log Loss Validation set: 0.33677415047902454\n",
      "Log Loss Test set: 0.4871192869820216\n"
     ]
    }
   ],
   "source": [
    "y_valid_pred = model_1.predict(X_valid_clean)\n",
    "y_test_pred = model_1.predict(X_test_clean)\n",
    "\n",
    "print(f\"Log Loss Validation set: {log_loss(y_valid, y_valid_pred[:,1])}\")\n",
    "print(f\"Log Loss Test set: {log_loss(y_test, y_test_pred[:,1])}\")"
   ]
  },
  {
   "cell_type": "code",
   "execution_count": null,
   "id": "ae751232-9fd9-405e-8c75-c6b925934a58",
   "metadata": {},
   "outputs": [],
   "source": []
  },
  {
   "cell_type": "code",
   "execution_count": null,
   "id": "4ee88434-24ba-4035-bcdb-84233692d4aa",
   "metadata": {},
   "outputs": [],
   "source": []
  },
  {
   "cell_type": "code",
   "execution_count": null,
   "id": "9312f2e8-53e6-433c-bacf-fa0a54ee945f",
   "metadata": {},
   "outputs": [],
   "source": []
  },
  {
   "cell_type": "code",
   "execution_count": null,
   "id": "77b19f46-9819-495c-bc4e-829cae7e9c64",
   "metadata": {},
   "outputs": [],
   "source": []
  },
  {
   "cell_type": "code",
   "execution_count": null,
   "id": "6821f46e-1bab-4783-a9a0-0d4ec524fb60",
   "metadata": {},
   "outputs": [],
   "source": []
  },
  {
   "cell_type": "code",
   "execution_count": null,
   "id": "456dff8b-54aa-4b4e-b22d-6d02fe0be72d",
   "metadata": {},
   "outputs": [],
   "source": []
  },
  {
   "cell_type": "code",
   "execution_count": 18,
   "id": "cdd17e8e-994b-402d-a195-e930453514e7",
   "metadata": {},
   "outputs": [],
   "source": [
    "import keras_tuner as kt"
   ]
  },
  {
   "cell_type": "code",
   "execution_count": 19,
   "id": "7274b0b0-b6cd-4fd3-956f-14950415ccff",
   "metadata": {},
   "outputs": [],
   "source": [
    "def build_model(hp):\n",
    "    n_hidden = hp.Int(\"n_hidden\", min_value=0, max_value=5, default=2)\n",
    "    n_neurons = hp.Int(\"n_neurons\", min_value=10, max_value=50)\n",
    "    learning_rate = hp.Float(\"learning_rate\", min_value=1e-4, max_value=1e-2, sampling=\"log\")\n",
    "    optimizer = hp.Choice(\"optimizer\", values=[\"sgd\", \"adam\"])\n",
    "    \n",
    "    if optimizer==\"sgd\":\n",
    "        optimizer = tf.keras.optimizers.SGD(learning_rate=learning_rate)\n",
    "    else:\n",
    "        optimizer = tf.keras.optimizers.Adam(learning_rate=learning_rate)\n",
    "        \n",
    "    model = tf.keras.Sequential()\n",
    "    \n",
    "    for _ in range(n_hidden):\n",
    "        model.add(tf.keras.layers.Dense(n_neurons, activation=\"relu\"))\n",
    "    model.add(tf.keras.layers.Dense(2, activation=\"softmax\"))\n",
    "    \n",
    "    model.compile(loss=\"sparse_categorical_crossentropy\", optimizer=optimizer, metrics=[\"accuracy\"])\n",
    "    \n",
    "    return model"
   ]
  },
  {
   "cell_type": "code",
   "execution_count": 20,
   "id": "a0f387c2-10e3-498c-aa14-f6e311a85966",
   "metadata": {},
   "outputs": [
    {
     "name": "stdout",
     "output_type": "stream",
     "text": [
      "Trial 5 Complete [00h 00m 08s]\n",
      "val_accuracy: 0.8275862336158752\n",
      "\n",
      "Best val_accuracy So Far: 0.9224137663841248\n",
      "Total elapsed time: 00h 00m 44s\n",
      "INFO:tensorflow:Oracle triggered exit\n"
     ]
    }
   ],
   "source": [
    "random_search_tuner = kt.RandomSearch(build_model, objective=\"val_accuracy\", max_trials=5, overwrite=True, directory=\"my_ICR_project\", project_name=\"my_rnd_search\", seed=42)\n",
    "random_search_tuner.search(X_train_clean, y_train, epochs=10, validation_data=(X_valid_clean, y_valid))"
   ]
  },
  {
   "cell_type": "code",
   "execution_count": 21,
   "id": "5b77966a-ed65-4462-b20f-659746171194",
   "metadata": {},
   "outputs": [
    {
     "name": "stdout",
     "output_type": "stream",
     "text": [
      "WARNING:tensorflow:Detecting that an object or model or tf.train.Checkpoint is being deleted with unrestored values. See the following logs for the specific values in question. To silence these warnings, use `status.expect_partial()`. See https://www.tensorflow.org/api_docs/python/tf/train/Checkpoint#restorefor details about the status object returned by the restore function.\n",
      "WARNING:tensorflow:Value in checkpoint could not be found in the restored object: (root).layer_with_weights-0.kernel\n",
      "WARNING:tensorflow:Value in checkpoint could not be found in the restored object: (root).layer_with_weights-0.bias\n",
      "WARNING:tensorflow:Value in checkpoint could not be found in the restored object: (root).layer_with_weights-1.kernel\n",
      "WARNING:tensorflow:Value in checkpoint could not be found in the restored object: (root).layer_with_weights-1.bias\n",
      "WARNING:tensorflow:Value in checkpoint could not be found in the restored object: (root).layer_with_weights-2.kernel\n",
      "WARNING:tensorflow:Value in checkpoint could not be found in the restored object: (root).layer_with_weights-2.bias\n",
      "WARNING:tensorflow:Value in checkpoint could not be found in the restored object: (root).layer_with_weights-3.kernel\n",
      "WARNING:tensorflow:Value in checkpoint could not be found in the restored object: (root).layer_with_weights-3.bias\n",
      "WARNING:tensorflow:Value in checkpoint could not be found in the restored object: (root).optimizer.iter\n",
      "WARNING:tensorflow:Value in checkpoint could not be found in the restored object: (root).optimizer.decay\n",
      "WARNING:tensorflow:Value in checkpoint could not be found in the restored object: (root).optimizer.learning_rate\n",
      "WARNING:tensorflow:Value in checkpoint could not be found in the restored object: (root).optimizer.momentum\n",
      "WARNING:tensorflow:Detecting that an object or model or tf.train.Checkpoint is being deleted with unrestored values. See the following logs for the specific values in question. To silence these warnings, use `status.expect_partial()`. See https://www.tensorflow.org/api_docs/python/tf/train/Checkpoint#restorefor details about the status object returned by the restore function.\n",
      "WARNING:tensorflow:Value in checkpoint could not be found in the restored object: (root).layer_with_weights-0.kernel\n",
      "WARNING:tensorflow:Value in checkpoint could not be found in the restored object: (root).layer_with_weights-0.bias\n",
      "WARNING:tensorflow:Value in checkpoint could not be found in the restored object: (root).layer_with_weights-1.kernel\n",
      "WARNING:tensorflow:Value in checkpoint could not be found in the restored object: (root).layer_with_weights-1.bias\n",
      "WARNING:tensorflow:Value in checkpoint could not be found in the restored object: (root).layer_with_weights-2.kernel\n",
      "WARNING:tensorflow:Value in checkpoint could not be found in the restored object: (root).layer_with_weights-2.bias\n",
      "WARNING:tensorflow:Value in checkpoint could not be found in the restored object: (root).layer_with_weights-3.kernel\n",
      "WARNING:tensorflow:Value in checkpoint could not be found in the restored object: (root).layer_with_weights-3.bias\n",
      "WARNING:tensorflow:Value in checkpoint could not be found in the restored object: (root).layer_with_weights-4.kernel\n",
      "WARNING:tensorflow:Value in checkpoint could not be found in the restored object: (root).layer_with_weights-4.bias\n",
      "WARNING:tensorflow:Value in checkpoint could not be found in the restored object: (root).layer_with_weights-5.kernel\n",
      "WARNING:tensorflow:Value in checkpoint could not be found in the restored object: (root).layer_with_weights-5.bias\n",
      "WARNING:tensorflow:Value in checkpoint could not be found in the restored object: (root).optimizer.iter\n",
      "WARNING:tensorflow:Value in checkpoint could not be found in the restored object: (root).optimizer.decay\n",
      "WARNING:tensorflow:Value in checkpoint could not be found in the restored object: (root).optimizer.learning_rate\n",
      "WARNING:tensorflow:Value in checkpoint could not be found in the restored object: (root).optimizer.momentum\n"
     ]
    }
   ],
   "source": [
    "best_model = random_search_tuner.get_best_models(num_models=3)[0]"
   ]
  },
  {
   "cell_type": "code",
   "execution_count": 24,
   "id": "1d8c2e8e-c28b-42d5-8e2b-b2067542acc6",
   "metadata": {},
   "outputs": [
    {
     "name": "stdout",
     "output_type": "stream",
     "text": [
      "5/5 [==============================] - 2s 30ms/step - loss: 0.8296 - accuracy: 0.8774\n"
     ]
    },
    {
     "data": {
      "text/plain": [
       "[0.8295931220054626, 0.8774193525314331]"
      ]
     },
     "execution_count": 24,
     "metadata": {},
     "output_type": "execute_result"
    }
   ],
   "source": [
    "best_model.evaluate(X_test_clean, y_test)"
   ]
  },
  {
   "cell_type": "code",
   "execution_count": 27,
   "id": "4b56ce32-f0ad-429f-9c16-e8bec10929bd",
   "metadata": {},
   "outputs": [
    {
     "ename": "AttributeError",
     "evalue": "'list' object has no attribute 'values'",
     "output_type": "error",
     "traceback": [
      "\u001b[1;31m---------------------------------------------------------------------------\u001b[0m",
      "\u001b[1;31mAttributeError\u001b[0m                            Traceback (most recent call last)",
      "Cell \u001b[1;32mIn[27], line 2\u001b[0m\n\u001b[0;32m      1\u001b[0m best_params \u001b[38;5;241m=\u001b[39mrandom_search_tuner\u001b[38;5;241m.\u001b[39mget_best_hyperparameters(num_trials\u001b[38;5;241m=\u001b[39m\u001b[38;5;241m3\u001b[39m)\n\u001b[1;32m----> 2\u001b[0m \u001b[43mbest_params\u001b[49m\u001b[38;5;241;43m.\u001b[39;49m\u001b[43mvalues\u001b[49m\n",
      "\u001b[1;31mAttributeError\u001b[0m: 'list' object has no attribute 'values'"
     ]
    }
   ],
   "source": [
    "best_params =random_search_tuner.get_best_hyperparameters(num_trials=3)\n",
    "best_params.values"
   ]
  },
  {
   "cell_type": "code",
   "execution_count": null,
   "id": "e67c52db-f69f-4f80-89ab-71cf729986be",
   "metadata": {},
   "outputs": [],
   "source": []
  }
 ],
 "metadata": {
  "kernelspec": {
   "display_name": "Python 3 (ipykernel)",
   "language": "python",
   "name": "python3"
  },
  "language_info": {
   "codemirror_mode": {
    "name": "ipython",
    "version": 3
   },
   "file_extension": ".py",
   "mimetype": "text/x-python",
   "name": "python",
   "nbconvert_exporter": "python",
   "pygments_lexer": "ipython3",
   "version": "3.10.9"
  }
 },
 "nbformat": 4,
 "nbformat_minor": 5
}
